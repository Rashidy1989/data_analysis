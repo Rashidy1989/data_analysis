#!/usr/bin/env python
# coding: utf-8

# # Data Science Tools and Ecosystem

# In this notebook, Data Science Tools and Ecosystem are summarized.

# **Objectives:**
# - Popular Languages used by Data Scientists
# - Common Libraries used in Data Science
# - Popular Data Science tools
# - Few examples evaluating arithmetic expressions in Python

# Some of the popular languages that Data Scientists use are:
# 1. Python
# 2. SQL
# 3. R

# Some of the commonly used libraries used by Data Scientists include:
# 1. Pandas
# 2. NumPy
# 3. SciPy
# 4. Matplotlib

# |Data Science Tools|
# |----------|
# |MySQL|
# |ApacheAirFlow|
# |NodeRed|

# ### Below are a few examples of evaluating arithmetic expressions in Python.

# In[1]:


# This a simple arithmetic expression to mutiply then add integers
(3*4)+5


# In[3]:


# This will convert 200 minutes to hours by diving by 60
time_in_minutes = 200
time_in_hours = 200/60
print(time_in_hours)


# ## Author
# Ahmed Hassan Elrashidy

# In[ ]:




